{
  "nbformat": 4,
  "nbformat_minor": 0,
  "metadata": {
    "colab": {
      "provenance": []
    },
    "kernelspec": {
      "name": "python3",
      "display_name": "Python 3"
    },
    "language_info": {
      "name": "python"
    }
  },
  "cells": [
    {
      "cell_type": "markdown",
      "source": [
        "1.What is Object-Oriented Programming (OOP)?\n",
        "\n",
        "\n",
        "\n",
        "ANSWER:- Object-Oriented Programming (OOP) is a way of writing code by organizing it into objects, which are based on classes. These objects contain:\n",
        "\n",
        "Data (attributes)\n",
        "\n",
        "Functions (methods)\n",
        "\n",
        "\n",
        "Key Concepts:\n",
        "\n",
        "Class - Blueprint for objects\n",
        "\n",
        "Object - Instance of a class\n",
        "\n",
        "Encapsulation - Hiding internal details\n",
        "\n",
        "Inheritance  Reusing code from other classes\n",
        "\n",
        "Polymorphism - Same method, different behavior\n",
        "\n",
        "Abstraction - Hiding complexity\n",
        "\n",
        "\n",
        "OOP makes code more reusable, organized, and easier to manage.\n",
        "\n",
        "\n",
        "\n",
        "2. What is a class in OOP?\n",
        "\n",
        "ANS:- A class of OOP is a blueprint for creating objects.It defines the properties(attributes) and behaviours(methods) that the objects will have.\n",
        "\n",
        "\n",
        "3. What is an object in OOP?\n",
        "\n",
        "ANS:- An object in OOP is an instance of a class.It represents a real-world entity with specific values for the attributes an can perform actions using the class's methods.\n",
        "\n",
        "4. What is the difference between abstraction and encapsulation?\n",
        "\n",
        "Ans:- Abstraction and encapsulation are key concepts in object-oriented programming. Abstraction focuses on hiding the complex implementation details and showing only the essential features of an object, making the code easier to use and understand. It defines what an object does without explaining how it does it. On the other hand, encapsulation is about wrapping data and the methods that operate on it into a single unit, usually a class, and restricting direct access to some of the object’s components. This protects the data from unwanted interference and ensures controlled interaction. In short, abstraction simplifies complexity, while encapsulation secures data.\n",
        "\n",
        "5.What are dunder methods in Python?\n",
        "\n",
        "Ans:-Dunder methods in Python (short for \"double underscore\" methods) are special methods with names that start and end with double underscores, like _init, __str, or __len_. They are also called magic methods and are used to define how objects behave with built-in functions and operators.\n",
        "\n",
        " Examples:\n",
        "\n",
        "_init_(self) - constructor, runs when an object is created\n",
        "\n",
        "_str_(self) - defines how the object is printed\n",
        "\n",
        "_len_(self) - defines behavior for len() function\n",
        "\n",
        "_add_(self, other) - defines behavior for the + operator\n",
        "\n",
        "\n",
        "These methods let you customize how your objects behave in Pythonic ways.\n",
        "\n",
        "6. Explain the concept of inheritance in OOP?\n",
        "\n",
        "Ans:-Inheritance in Object-Oriented Programming (OOP) is a concept where one class (child or subclass) inherits the properties and behaviors (attributes and methods) of another class (parent or superclass). This allows code reusability and helps build relationships between classes.\n",
        "\n",
        "7.What is polymorphism in OOP?\n",
        "\n",
        "Ans:- Polymorphism in OOP means \"many forms.\" It allows objects of different classes to be treated through a common interface, enabling the same method to behave differently depending on the object calling it.\n",
        "\n",
        "8. How is encapsulation achieved in Python?\n",
        "\n",
        "Ans:-Encapsulation in Python is done by:\n",
        "\n",
        "Using classes to group data and methods.\n",
        "\n",
        "Making attributes private using double underscores (__) to restrict direct access.\n",
        "\n",
        "Providing getter/setter methods to access or modify private data safely.\n",
        "\n",
        "This keeps data secure and controlled.\n",
        "\n",
        "9.What is a constructor in Python?\n",
        "\n",
        "Ans:- A constructor in Python is the _init_ method. It runs automatically when an object is created and initializes its attributes.\n",
        "\n",
        "10. What are class and static methods in Python?\n",
        "\n",
        "Ans:-Class method: Uses @classmethod and takes cls as the first argument. It can access class variables.\n",
        "\n",
        "Static method: Uses @staticmethod and takes no self or cls. It’s like a regular function inside a class.\n",
        "\n",
        "11: What is method overloading in Python?\n",
        "\n",
        "Ans:-Python doesn’t support traditional method overloading. Instead, you can use default arguments or *args and **kwargs to handle multiple cases.\n",
        "\n",
        "12:What is method overriding in OOP?\n",
        "\n",
        "Ans:-Method overriding allows a subclass to redefine a method from its parent class to change or extend its behavior.\n",
        "\n",
        "13. What is a property decorator in Python?\n",
        "\n",
        "Ans:-The @property decorator makes a method behave like an attribute. It allows getter/setter behavior using simple syntax.\n",
        "\n",
        "@property\n",
        "def age(self):\n",
        "    return self._age\n",
        "\n",
        "\n",
        "14. Why is polymorphism important in OOP?\n",
        "\n",
        "Ans:-Polymorphism lets you use the same method name for different objects, making code flexible, clean, and extensible.\n",
        "\n",
        "\n",
        "15. What is an abstract class in Python?\n",
        "\n",
        "Ans:-An abstract class is a class with one or more abstract methods (defined using @abstractmethod) and can’t be instantiated. Used to define a common interface for subclasses.\n",
        "\n",
        "\n",
        "\n",
        " 16:What are the advantages of OOP?\n",
        "\n",
        "Ans:-Reusability (via inheritance)\n",
        "\n",
        "Better code organization\n",
        "\n",
        "Encapsulation for security\n",
        "\n",
        "Easier debugging and maintenance\n",
        "\n",
        "Polymorphism for flexibility\n",
        "\n",
        "\n",
        "\n",
        "17:- What is the difference between a class variable and an instance variable?\n",
        "\n",
        "Ans:-Class variable: Shared by all instances. Defined outside _init_.\n",
        "\n",
        "Instance variable: Unique to each object. Defined inside _init_.\n",
        "\n",
        "\n",
        "\n",
        "18.What is multiple inheritance in Python?\n",
        "\n",
        "Ans:-Multiple inheritance means a class can inherit from more than one parent class. Python uses the Method Resolution Order (MRO) to resolve conflicts.\n",
        "\n",
        " 19.Purpose of _str_ and _repr_ methods in Python?\n",
        "\n",
        "Ans:-_str_: Returns a user-friendly string (used by print()).\n",
        "\n",
        "_repr_: Returns an unambiguous string (used in debugging).\n",
        "\n",
        "\n",
        "\n",
        "20. Significance of super() in Python?\n",
        "\n",
        "Ans:-super() is used to call a method from the parent class, often in inheritance to reuse code and avoid redundancy.\n",
        "\n",
        "\n",
        "21. Significance of _del_ method in Python?\n",
        "\n",
        "Ans:-_del_ is a destructor method called when an object is about to be destroyed. Use it for cleanup (rarely used in modern code).\n",
        "\n",
        "\n",
        "22. Difference between @staticmethod and @classmethod?\n",
        "\n",
        "Ans:-@staticmethod: No self or cls, acts like a regular function in a class.\n",
        "\n",
        "@classmethod: Takes cls and can modify/access class-level data.\n",
        "\n",
        "\n",
        "23. How does polymorphism work in Python with inheritance?\n",
        "\n",
        "Ans:-Python uses dynamic typing: if subclasses override a method, that version is called—even if using a base class reference.\n",
        "\n",
        "\n",
        "24. What is method chaining in Python OOP?\n",
        "\n",
        "Ans:-Method chaining means calling multiple methods on the same object in one line. Each method returns self.\n",
        "\n",
        "obj.set_name(\"Tom\").set_age(25).show()\n",
        "\n",
        "25. Purpose of _call_ method in Python?\n",
        "\n",
        "Ans:-_call_ makes an object callable like a function. Useful for custom behavior when the object is \"called\".\n",
        "\n",
        "class Adder:\n",
        "    def _call_(self, x, y):\n",
        "        return x + y\n",
        "a = Adder()\n",
        "a(3, 4)  # returns 7\n",
        ""
      ],
      "metadata": {
        "id": "_h7baR1bMEN0"
      }
    },
    {
      "cell_type": "code",
      "source": [
        "# 1.Create a parent class Animal with a method speak() that prints a generic message. Create a child class Dog\n",
        "# that overrides the speak() method to print \"Bark!\".\n",
        "\n",
        "#Answer: # Parent class\n",
        "class Animal:\n",
        "    def speak(self):\n",
        "        print(\"The animal makes a sound\")\n",
        "\n",
        "# Child class\n",
        "class Dog(Animal):\n",
        "    def speak(self):\n",
        "        print(\"Bark!\")\n",
        "\n",
        "# Example usage\n",
        "a = Animal()\n",
        "a.speak()   # Output: The animal makes a sound\n",
        "\n",
        "d = Dog()\n",
        "d.speak()   # Output: Bark!"
      ],
      "metadata": {
        "colab": {
          "base_uri": "https://localhost:8080/"
        },
        "id": "R7opXUaTahUn",
        "outputId": "d85c81df-458f-4d66-91a7-e0ac026adae2"
      },
      "execution_count": 3,
      "outputs": [
        {
          "output_type": "stream",
          "name": "stdout",
          "text": [
            "The animal makes a sound\n",
            "Bark!\n"
          ]
        }
      ]
    },
    {
      "cell_type": "code",
      "source": [
        "#2. Write a program to create an abstract class Shape with a method area(). Derive classes Circle and Rectangle\n",
        "# from it and implement the area() method in both\n",
        "\n",
        "#Answer:-\n",
        "from abc import ABC, abstractmethod\n",
        "import math\n",
        "\n",
        "# Abstract class\n",
        "class Shape(ABC):\n",
        "    @abstractmethod\n",
        "    def area(self):\n",
        "        pass\n",
        "\n",
        "# Derived class: Circle\n",
        "class Circle(Shape):\n",
        "    def __init__(self, radius):\n",
        "        self.radius = radius\n",
        "\n",
        "    def area(self):\n",
        "        return math.pi * self.radius ** 2\n",
        "\n",
        "# Derived class: Rectangle\n",
        "class Rectangle(Shape):\n",
        "    def __init__(self, length, width):\n",
        "        self.length = length\n",
        "        self.width = width\n",
        "\n",
        "    def area(self):\n",
        "        return self.length * self.width\n",
        "\n",
        "# Example usage\n",
        "c = Circle(5)\n",
        "print(\"Circle area:\", c.area())\n",
        "\n",
        "r = Rectangle(4, 6)\n",
        "print(\"Rectangle area:\", r.area())"
      ],
      "metadata": {
        "colab": {
          "base_uri": "https://localhost:8080/"
        },
        "id": "bwNcXyFJb3pW",
        "outputId": "3cf56f66-018f-46b4-81e3-edcb19f1218d"
      },
      "execution_count": 7,
      "outputs": [
        {
          "output_type": "stream",
          "name": "stdout",
          "text": [
            "Circle area: 78.53981633974483\n",
            "Rectangle area: 24\n"
          ]
        }
      ]
    },
    {
      "cell_type": "code",
      "source": [
        "#3. Implement a multi-level inheritance scenario where a class Vehicle has an attribute type. Derive a class Car\n",
        "# and further derive a class ElectricCar that adds a battery attribute.\n",
        "#Ans:\n",
        "# Base class\n",
        "class Vehicle:\n",
        "    def __init__(self, vehicle_type):\n",
        "        self.type = vehicle_type\n",
        "\n",
        "# Derived class from Vehicle\n",
        "class Car(Vehicle):\n",
        "    def __init__(self, vehicle_type, brand):\n",
        "        super().__init__(vehicle_type)\n",
        "        self.brand = brand\n",
        "\n",
        "# Further derived class from Car\n",
        "class ElectricCar(Car):\n",
        "    def __init__(self, vehicle_type, brand, battery_capacity):\n",
        "        super().__init__(vehicle_type, brand)\n",
        "        self.battery = battery_capacity\n",
        "\n",
        "    def display_info(self):\n",
        "        print(f\"Type: {self.type}\")\n",
        "        print(f\"Brand: {self.brand}\")\n",
        "        print(f\"Battery: {self.battery} kWh\")\n",
        "\n",
        "# Example usage\n",
        "e_car = ElectricCar(\"Electric Vehicle\", \"Tesla\", 75)\n",
        "e_car.display_info()"
      ],
      "metadata": {
        "colab": {
          "base_uri": "https://localhost:8080/"
        },
        "id": "UKNxlQtTc1lg",
        "outputId": "b6e59b34-27e4-4956-82e5-de63aea3ab82"
      },
      "execution_count": 10,
      "outputs": [
        {
          "output_type": "stream",
          "name": "stdout",
          "text": [
            "Type: Electric Vehicle\n",
            "Brand: Tesla\n",
            "Battery: 75 kWh\n"
          ]
        }
      ]
    },
    {
      "cell_type": "code",
      "source": [
        "#4.Demonstrate polymorphism by creating a base class Bird with a method fly(). Create two derived classes Sparrow and Penguin that override the fly() method.\n",
        "\n",
        "#ans: # Base class\n",
        "class Bird:\n",
        "    def fly(self):\n",
        "        print(\"This bird can fly.\")\n",
        "\n",
        "# Derived class\n",
        "class Sparrow(Bird):\n",
        "    def fly(self):\n",
        "        print(\"Sparrow flies high in the sky.\")\n",
        "\n",
        "# Derived class\n",
        "class Penguin(Bird):\n",
        "    def fly(self):\n",
        "        print(\"Penguins can't fly, they swim.\")\n",
        "\n",
        "# Polymorphism in action\n",
        "def bird_flight(bird):\n",
        "    bird.fly()\n",
        "\n",
        "# Example usage\n",
        "b1 = Sparrow()\n",
        "b2 = Penguin()\n",
        "\n",
        "bird_flight(b1)  # Output: Sparrow flies high in the sky.\n",
        "bird_flight(b2)  # Output: Penguins can't fly, they swim."
      ],
      "metadata": {
        "colab": {
          "base_uri": "https://localhost:8080/"
        },
        "id": "0ZcF-9ZGj9at",
        "outputId": "193088d3-14e8-4d2d-86ef-b4cfa1585129"
      },
      "execution_count": 13,
      "outputs": [
        {
          "output_type": "stream",
          "name": "stdout",
          "text": [
            "Sparrow flies high in the sky.\n",
            "Penguins can't fly, they swim.\n"
          ]
        }
      ]
    },
    {
      "cell_type": "code",
      "source": [
        "#5.Write a program to demonstrate encapsulation by creating a class BankAccount with private attributes\n",
        "#Ans: class BankAccount:\n",
        "class BankAccount:\n",
        "    def __init__(self, initial_balance=0):\n",
        "        self.__balance = initial_balance  # private attribute\n",
        "\n",
        "    def deposit(self, amount):\n",
        "        if amount > 0:\n",
        "            self.__balance += amount\n",
        "            print(f\"Deposited: {amount}\")\n",
        "        else:\n",
        "            print(\"Invalid deposit amount\")\n",
        "\n",
        "    def withdraw(self, amount):\n",
        "        if 0 < amount <= self.__balance:\n",
        "            self.__balance -= amount\n",
        "            print(f\"Withdrew: {amount}\")\n",
        "        else:\n",
        "            print(\"Insufficient balance or invalid amount\")\n",
        "\n",
        "    def check_balance(self):\n",
        "        print(f\"Current Balance: {self.__balance}\")\n",
        "\n",
        "# Example usage\n",
        "account = BankAccount(1000)\n",
        "account.deposit(500)\n",
        "account.withdraw(300)\n",
        "account.check_balance()"
      ],
      "metadata": {
        "colab": {
          "base_uri": "https://localhost:8080/"
        },
        "id": "8BAg5XWvko3g",
        "outputId": "2a3dbe28-7ae9-4fce-b4f4-1c80f5cf5873"
      },
      "execution_count": 17,
      "outputs": [
        {
          "output_type": "stream",
          "name": "stdout",
          "text": [
            "Deposited: 500\n",
            "Withdrew: 300\n",
            "Current Balance: 1200\n"
          ]
        }
      ]
    },
    {
      "cell_type": "code",
      "source": [
        "#6. Demonstrate runtime polymorphism using a method play() in a base class Instrument. Derive classes Guitar\n",
        "#Ans: # Base class\n",
        "class Instrument:\n",
        "    def play(self):\n",
        "        print(\"Playing an instrument.\")\n",
        "\n",
        "# Derived class\n",
        "class Guitar(Instrument):\n",
        "    def play(self):\n",
        "        print(\"Strumming the guitar.\")\n",
        "\n",
        "# Derived class\n",
        "class Piano(Instrument):\n",
        "    def play(self):\n",
        "        print(\"Playing the piano.\")\n",
        "\n",
        "# Function demonstrating runtime polymorphism\n",
        "def start_playing(instrument):\n",
        "    instrument.play()\n",
        "\n",
        "# Example usage\n",
        "inst1 = Guitar()\n",
        "inst2 = Piano()\n",
        "\n",
        "start_playing(inst1)  # Output: Strumming the guitar.\n",
        "start_playing(inst2)  # Output: Playing the piano."
      ],
      "metadata": {
        "colab": {
          "base_uri": "https://localhost:8080/"
        },
        "id": "RhEbWnkRlIjk",
        "outputId": "52621bee-99dd-497e-8308-e808b3802108"
      },
      "execution_count": 19,
      "outputs": [
        {
          "output_type": "stream",
          "name": "stdout",
          "text": [
            "Strumming the guitar.\n",
            "Playing the piano.\n"
          ]
        }
      ]
    },
    {
      "cell_type": "code",
      "source": [
        "#7. Create a class MathOperations with a class method add_numbers() to add two numbers and a static\n",
        "#Ans: class MathOperations:\n",
        "class MathOperations:\n",
        "\n",
        "    @classmethod\n",
        "    def add_numbers(cls, a, b):\n",
        "        return a + b\n",
        "\n",
        "    @staticmethod\n",
        "    def subtract_numbers(a, b):\n",
        "        return a - b\n",
        "\n",
        "# Example usage\n",
        "sum_result = MathOperations.add_numbers(10, 5)\n",
        "diff_result = MathOperations.subtract_numbers(10, 5)\n",
        "\n",
        "print(\"Sum:\", sum_result)        # Output: Sum: 15\n",
        "print(\"Difference:\", diff_result)  # Output: Difference: 5"
      ],
      "metadata": {
        "colab": {
          "base_uri": "https://localhost:8080/"
        },
        "id": "OwU2Sz9WlwPq",
        "outputId": "54517747-ba15-438b-86be-60c8a3036ef4"
      },
      "execution_count": 22,
      "outputs": [
        {
          "output_type": "stream",
          "name": "stdout",
          "text": [
            "Sum: 15\n",
            "Difference: 5\n"
          ]
        }
      ]
    },
    {
      "cell_type": "code",
      "source": [
        "#8. Implement a class Person with a class method to count the total number of persons created\n",
        "\n",
        "#Ans: class Person:\n",
        "class Person:\n",
        "    count = 0  # Class variable to keep track of instances\n",
        "\n",
        "    def __init__(self, name):\n",
        "        self.name = name\n",
        "        Person.count += 1  # Increment count on each new object\n",
        "\n",
        "    @classmethod\n",
        "    def get_count(cls):\n",
        "        return cls.count\n",
        "\n",
        "# Example usage\n",
        "p1 = Person(\"Alice\")\n",
        "p2 = Person(\"Bob\")\n",
        "p3 = Person(\"Charlie\")\n",
        "\n",
        "print(\"Total persons created:\", Person.get_count())"
      ],
      "metadata": {
        "colab": {
          "base_uri": "https://localhost:8080/"
        },
        "id": "8Qv544mRmLbP",
        "outputId": "ebfff698-060f-43a9-8d3c-dfc5f6ddc8e6"
      },
      "execution_count": 25,
      "outputs": [
        {
          "output_type": "stream",
          "name": "stdout",
          "text": [
            "Total persons created: 3\n"
          ]
        }
      ]
    },
    {
      "cell_type": "code",
      "source": [
        "#9.Write a class Fraction with attributes numerator and denominator. Override the str method to display the\n",
        "# fraction as \"numerator/denominator\".\n",
        "\n",
        "class Fraction:\n",
        "    def __init__(self, numerator, denominator):\n",
        "        self.numerator = numerator\n",
        "        self.denominator = denominator\n",
        "\n",
        "    def __str__(self):\n",
        "        return f\"{self.numerator}/{self.denominator}\"\n",
        "\n",
        "# Example usage\n",
        "f1 = Fraction(3, 4)\n",
        "print(f1)"
      ],
      "metadata": {
        "colab": {
          "base_uri": "https://localhost:8080/"
        },
        "id": "2CV6PZnDmtLs",
        "outputId": "204be843-d9e6-40d0-d9df-150bb751c2b8"
      },
      "execution_count": 31,
      "outputs": [
        {
          "output_type": "stream",
          "name": "stdout",
          "text": [
            "3/4\n"
          ]
        }
      ]
    },
    {
      "cell_type": "code",
      "source": [
        "#10. Demonstrate operator overloading by creating a class Vector and overriding the add method to add two\n",
        "# vectors\n",
        "\n",
        "class Vector:\n",
        "    def __init__(self, x, y):\n",
        "        self.x = x\n",
        "        self.y = y\n",
        "\n",
        "    def __add__(self, other):\n",
        "        return Vector(self.x + other.x, self.y + other.y)\n",
        "\n",
        "    def __str__(self):\n",
        "        return f\"({self.x}, {self.y})\"\n",
        "\n",
        "# Example usage\n",
        "v1 = Vector(2, 3)\n",
        "v2 = Vector(4, 1)\n",
        "v3 = v1 + v2  # Operator overloading in action\n",
        "\n",
        "print(\"Resultant Vector:\", v3)"
      ],
      "metadata": {
        "colab": {
          "base_uri": "https://localhost:8080/"
        },
        "id": "yjlLpEIAnkZR",
        "outputId": "77ece39f-b30c-45ee-bc7b-1b7647c46b83"
      },
      "execution_count": 34,
      "outputs": [
        {
          "output_type": "stream",
          "name": "stdout",
          "text": [
            "Resultant Vector: (6, 4)\n"
          ]
        }
      ]
    },
    {
      "cell_type": "code",
      "source": [
        "#11.Create a class Person with attributes name and age. Add a method greet() that prints \"Hello, my name is\n",
        "# {name} and I am {age} years old.\"\n",
        "\n",
        "class Person:\n",
        "    def __init__(self, name, age):\n",
        "        self.name = name\n",
        "        self.age = age\n",
        "\n",
        "    def greet(self):\n",
        "        print(f\"Hello, my name is {self.name} and I am {self.age} years old.\")\n",
        "\n",
        "# Example usage\n",
        "p1 = Person(\"Alice\", 25)\n",
        "p1.greet()"
      ],
      "metadata": {
        "colab": {
          "base_uri": "https://localhost:8080/"
        },
        "id": "q7eD124Cn5Rl",
        "outputId": "a0d412f8-7063-4d21-8055-89f35bbba076"
      },
      "execution_count": 38,
      "outputs": [
        {
          "output_type": "stream",
          "name": "stdout",
          "text": [
            "Hello, my name is Alice and I am 25 years old.\n"
          ]
        }
      ]
    },
    {
      "cell_type": "code",
      "source": [
        "#12. Implement a class Student with attributes name and grades. Create a method average_grade() to compute\n",
        "# the average of the grades.\n",
        "\n",
        "class Student:\n",
        "    def __init__(self, name, grades):\n",
        "        self.name = name\n",
        "        self.grades = grades  # Expecting a list of numbers\n",
        "\n",
        "    def average_grade(self):\n",
        "        if self.grades:\n",
        "            return sum(self.grades) / len(self.grades)\n",
        "        else:\n",
        "            return 0\n",
        "\n",
        "# Example usage\n",
        "s1 = Student(\"John\", [85, 90, 78, 92])\n",
        "print(f\"{s1.name}'s average grade is: {s1.average_grade()}\")"
      ],
      "metadata": {
        "colab": {
          "base_uri": "https://localhost:8080/"
        },
        "id": "ijGwD0o_ojnX",
        "outputId": "dd9f4484-4003-480c-956f-c52e9e982a71"
      },
      "execution_count": 43,
      "outputs": [
        {
          "output_type": "stream",
          "name": "stdout",
          "text": [
            "John's average grade is: 86.25\n"
          ]
        }
      ]
    },
    {
      "cell_type": "code",
      "source": [
        "#13.Create a class Rectangle with methods set_dimensions() to set the dimensions and area() to calculate the\n",
        "#Ans:  class Rectangle:\n",
        "class Rectangle:\n",
        "    def __init__(self):\n",
        "        self.length = 0\n",
        "        self.width = 0\n",
        "\n",
        "    def set_dimensions(self, length, width):\n",
        "        self.length = length\n",
        "        self.width = width\n",
        "\n",
        "    def area(self):\n",
        "        return self.length * self.width\n",
        "\n",
        "# Example usage\n",
        "rect = Rectangle()\n",
        "rect.set_dimensions(5, 3)\n",
        "print(\"Area of rectangle:\", rect.area())  # Output: Area of rectangle: 15"
      ],
      "metadata": {
        "colab": {
          "base_uri": "https://localhost:8080/"
        },
        "id": "QQdrFIXqpB_W",
        "outputId": "dda69bd0-b541-44b0-811d-85291e5bbf35"
      },
      "execution_count": 48,
      "outputs": [
        {
          "output_type": "stream",
          "name": "stdout",
          "text": [
            "Area of rectangle: 15\n"
          ]
        }
      ]
    },
    {
      "cell_type": "code",
      "source": [
        "#14.Create a class Employee with a method calculate_salary() that computes the salary based on hours worked\n",
        "#Ans:   # Base class\n",
        "class Employee:\n",
        "    def __init__(self, name, hours_worked, hourly_rate):\n",
        "        self.name = name\n",
        "        self.hours_worked = hours_worked\n",
        "        self.hourly_rate = hourly_rate\n",
        "\n",
        "    def calculate_salary(self):\n",
        "        return self.hours_worked * self.hourly_rate\n",
        "\n",
        "# Derived class\n",
        "class Manager(Employee):\n",
        "    def __init__(self, name, hours_worked, hourly_rate, bonus):\n",
        "        super().__init__(name, hours_worked, hourly_rate)\n",
        "        self.bonus = bonus\n",
        "\n",
        "    def calculate_salary(self):\n",
        "        base_salary = super().calculate_salary()\n",
        "        return base_salary + self.bonus\n",
        "\n",
        "# Example usage\n",
        "emp = Employee(\"John\", 40, 20)\n",
        "print(f\"{emp.name}'s Salary: ${emp.calculate_salary()}\")\n",
        "\n",
        "mgr = Manager(\"Alice\", 40, 30, 500)\n",
        "print(f\"{mgr.name}'s Salary: ${mgr.calculate_salary()}\")"
      ],
      "metadata": {
        "colab": {
          "base_uri": "https://localhost:8080/"
        },
        "id": "J4nMFA8gprWd",
        "outputId": "900ac759-4626-4cc7-e1bf-585bc7d2f3a0"
      },
      "execution_count": 52,
      "outputs": [
        {
          "output_type": "stream",
          "name": "stdout",
          "text": [
            "John's Salary: $800\n",
            "Alice's Salary: $1700\n"
          ]
        }
      ]
    },
    {
      "cell_type": "code",
      "source": [
        "#15. Create a class Product with attributes name, price, and quantity. Implement a method total_price() that\n",
        "\n",
        "\n",
        "#Ans: class Product:\n",
        "class Product:\n",
        "    def __init__(self, name, price, quantity):\n",
        "        self.name = name\n",
        "        self.price = price\n",
        "        self.quantity = quantity\n",
        "\n",
        "    def total_price(self):\n",
        "        return self.price * self.quantity\n",
        "\n",
        "# Example usage\n",
        "p1 = Product(\"Laptop\", 750.00, 2)\n",
        "print(f\"Total price for {p1.name}s: ${p1.total_price()}\")"
      ],
      "metadata": {
        "colab": {
          "base_uri": "https://localhost:8080/"
        },
        "id": "ZFnkzpk_qSWe",
        "outputId": "631a11aa-a879-49eb-b3af-c943e7a22e34"
      },
      "execution_count": 56,
      "outputs": [
        {
          "output_type": "stream",
          "name": "stdout",
          "text": [
            "Total price for Laptops: $1500.0\n"
          ]
        }
      ]
    },
    {
      "cell_type": "code",
      "source": [
        "#16.Create a class Animal with an abstract method sound(). Create two derived classes Cow and Sheep that\n",
        "#Ans:\n",
        "from abc import ABC, abstractmethod\n",
        "\n",
        "# Abstract base class\n",
        "class Animal(ABC):\n",
        "    @abstractmethod\n",
        "    def sound(self):\n",
        "        pass\n",
        "\n",
        "# Derived class Cow\n",
        "class Cow(Animal):\n",
        "    def sound(self):\n",
        "        return \"Moo\"\n",
        "\n",
        "# Derived class Sheep\n",
        "class Sheep(Animal):\n",
        "    def sound(self):\n",
        "        return \"Baa\"\n",
        "\n",
        "# Example usage\n",
        "cow = Cow()\n",
        "sheep = Sheep()\n",
        "\n",
        "print(\"Cow:\", cow.sound())\n",
        "print(\"Sheep:\", sheep.sound())"
      ],
      "metadata": {
        "colab": {
          "base_uri": "https://localhost:8080/"
        },
        "id": "MvCVck8ZrFtt",
        "outputId": "79a6b2a5-d214-4235-df20-4f658a1501d7"
      },
      "execution_count": 59,
      "outputs": [
        {
          "output_type": "stream",
          "name": "stdout",
          "text": [
            "Cow: Moo\n",
            "Sheep: Baa\n"
          ]
        }
      ]
    },
    {
      "cell_type": "code",
      "source": [
        "#17.\n",
        "\n",
        "#Ans: class Book:\n",
        "class Book:\n",
        "    def __init__(self, title, author, year_published):\n",
        "        self.title = title\n",
        "        self.author = author\n",
        "        self.year_published = year_published\n",
        "\n",
        "    def get_book_info(self):\n",
        "        return f\"'{self.title}' by {self.author},published in {self.year_published}.\"\n",
        "\n",
        "# Example usage\n",
        "book = Book(\"To Kill a Mockingbird\",\"Harper Lee\",1960)\n",
        "print(book.get_book_info())"
      ],
      "metadata": {
        "colab": {
          "base_uri": "https://localhost:8080/"
        },
        "id": "_d6h-ma5seHq",
        "outputId": "36b9deb2-278d-451e-e8e7-5b8e4eeb6653"
      },
      "execution_count": 78,
      "outputs": [
        {
          "output_type": "stream",
          "name": "stdout",
          "text": [
            "'To Kill a Mockingbird' by Harper Lee,published in 1960.\n"
          ]
        }
      ]
    },
    {
      "cell_type": "code",
      "source": [
        "#18.\n",
        "#Ans:- class House:\n",
        "class House:\n",
        "    def __init__(self, address, price):\n",
        "        self.address = address\n",
        "        self.price = price\n",
        "\n",
        "    def display_info(self):\n",
        "        print(f\"Address: {self.address}\")\n",
        "        print(f\"Price: ${self.price}\")\n",
        "\n",
        "class Mansion(House):\n",
        "    def __init__(self, address, price, number_of_rooms):\n",
        "        super().__init__(address, price)\n",
        "        self.number_of_rooms = number_of_rooms\n",
        "\n",
        "    def display_info(self):\n",
        "        super().display_info()\n",
        "        print(f\"Number of rooms: {self.number_of_rooms}\")\n",
        "\n",
        "# Example usage\n",
        "mansion = Mansion(\"123 Luxury Lane\", 5000000, 12)\n",
        "mansion.display_info()"
      ],
      "metadata": {
        "colab": {
          "base_uri": "https://localhost:8080/"
        },
        "id": "n6qc7wYsxlR6",
        "outputId": "91eec009-ccc5-4f11-d4f1-c5832b739974"
      },
      "execution_count": 81,
      "outputs": [
        {
          "output_type": "stream",
          "name": "stdout",
          "text": [
            "Address: 123 Luxury Lane\n",
            "Price: $5000000\n",
            "Number of rooms: 12\n"
          ]
        }
      ]
    },
    {
      "cell_type": "code",
      "source": [],
      "metadata": {
        "id": "tVeUP6CRypie"
      },
      "execution_count": null,
      "outputs": []
    }
  ]
}